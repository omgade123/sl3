{
 "cells": [
  {
   "cell_type": "code",
   "execution_count": 82,
   "id": "9e67dd3a-d387-4d4e-a135-e7d1823df2bb",
   "metadata": {},
   "outputs": [],
   "source": [
    "import nltk\n",
    "from nltk.tokenize import word_tokenize\n",
    "from nltk.corpus import stopwords\n",
    "from nltk.stem import PorterStemmer, WordNetLemmatizer\n",
    "from nltk import pos_tag\n",
    "from nltk.corpus import wordnet as wn  #it is like a big dictionary for the English language. It's not just a\n",
    "                                       #regular dictionary though; it also tells you how words relate to each other.\n",
    "from sklearn.feature_extraction.text import TfidfVectorizer\n",
    "import re #pattern matching and string manipulation. "
   ]
  },
  {
   "cell_type": "code",
   "execution_count": 83,
   "id": "7bdd136c-63ee-4c68-8ed7-f9e59eef9a3b",
   "metadata": {},
   "outputs": [],
   "source": [
    "def preprocess_text(text):\n",
    "    text = text.lower()\n",
    "    text = re.sub(r'[^\\w\\s]', ' ', text) #Replace non aplhanumeric character with white space\n",
    "    return text"
   ]
  },
  {
   "cell_type": "code",
   "execution_count": 84,
   "id": "958cf153-48f8-43b9-ac51-ee0b69303a28",
   "metadata": {},
   "outputs": [],
   "source": [
    "text = \"i am a student.hello!! there is a session going onn.\""
   ]
  },
  {
   "cell_type": "code",
   "execution_count": 85,
   "id": "edeb67ce-7058-4eda-9f84-4aad257aaa4f",
   "metadata": {},
   "outputs": [
    {
     "data": {
      "text/plain": [
       "'i am a student hello   there is a session going onn '"
      ]
     },
     "execution_count": 85,
     "metadata": {},
     "output_type": "execute_result"
    }
   ],
   "source": [
    "preprocessed_document = preprocess_text(text)\n",
    "preprocessed_document"
   ]
  },
  {
   "cell_type": "code",
   "execution_count": 86,
   "id": "f69ac1b9-57b2-46ef-8fb2-9fe9ab5865b9",
   "metadata": {},
   "outputs": [
    {
     "name": "stderr",
     "output_type": "stream",
     "text": [
      "[nltk_data] Downloading package punkt to\n",
      "[nltk_data]     C:\\Users\\Om\\AppData\\Roaming\\nltk_data...\n",
      "[nltk_data]   Package punkt is already up-to-date!\n"
     ]
    }
   ],
   "source": [
    "nltk.download('punkt')  #Punkt tokenizer is pre-trained unsupervised machine learning model provided by NLTK for tokenizing text into sentences\n",
    "def tokenize_text(text):\n",
    "    tokens = word_tokenize(text)\n",
    "    return tokens"
   ]
  },
  {
   "cell_type": "code",
   "execution_count": 87,
   "id": "b3327b72-bf85-4e20-8135-e909055e5cec",
   "metadata": {},
   "outputs": [
    {
     "data": {
      "text/plain": [
       "['i',\n",
       " 'am',\n",
       " 'a',\n",
       " 'student',\n",
       " 'hello',\n",
       " 'there',\n",
       " 'is',\n",
       " 'a',\n",
       " 'session',\n",
       " 'going',\n",
       " 'onn']"
      ]
     },
     "execution_count": 87,
     "metadata": {},
     "output_type": "execute_result"
    }
   ],
   "source": [
    "tokens = tokenize_text(preprocessed_document)\n",
    "tokens"
   ]
  },
  {
   "cell_type": "code",
   "execution_count": 88,
   "id": "79e8451f-8e5f-4783-a401-9993f0805ceb",
   "metadata": {},
   "outputs": [],
   "source": [
    "def pos_tag_tokens(tokens):\n",
    "    pos_tags = pos_tag(tokens)\n",
    "    return pos_tags"
   ]
  },
  {
   "cell_type": "code",
   "execution_count": 89,
   "id": "7b98eb5d-4ea5-428d-91e0-2e05d2eb6b50",
   "metadata": {},
   "outputs": [
    {
     "name": "stderr",
     "output_type": "stream",
     "text": [
      "[nltk_data] Downloading package averaged_perceptron_tagger to\n",
      "[nltk_data]     C:\\Users\\Om\\AppData\\Roaming\\nltk_data...\n",
      "[nltk_data]   Package averaged_perceptron_tagger is already up-to-\n",
      "[nltk_data]       date!\n"
     ]
    }
   ],
   "source": [
    "nltk.download('averaged_perceptron_tagger') #downloads the pre-trained model for pos tagging\n",
    "pos_tags = pos_tag_tokens(tokens)"
   ]
  },
  {
   "cell_type": "code",
   "execution_count": 90,
   "id": "4ede9077-4054-4380-8a55-eafcd3f7c017",
   "metadata": {},
   "outputs": [
    {
     "data": {
      "text/plain": [
       "[('i', 'NN'),\n",
       " ('am', 'VBP'),\n",
       " ('a', 'DT'),\n",
       " ('student', 'NN'),\n",
       " ('hello', 'NN'),\n",
       " ('there', 'EX'),\n",
       " ('is', 'VBZ'),\n",
       " ('a', 'DT'),\n",
       " ('session', 'NN'),\n",
       " ('going', 'VBG'),\n",
       " ('onn', 'NN')]"
      ]
     },
     "execution_count": 90,
     "metadata": {},
     "output_type": "execute_result"
    }
   ],
   "source": [
    "pos_tags"
   ]
  },
  {
   "cell_type": "code",
   "execution_count": 91,
   "id": "c524a604-4547-4076-bf60-7ed8e369bca6",
   "metadata": {},
   "outputs": [],
   "source": [
    "def remove_stop_words(tokens):\n",
    "    stop_words = set(stopwords.words('english'))\n",
    "    filtered_tokens = [word for word in tokens if word.lower() not in stop_words]\n",
    "    return filtered_tokens"
   ]
  },
  {
   "cell_type": "code",
   "execution_count": 92,
   "id": "f74bbd98-61db-42b1-bf04-dee983ff3943",
   "metadata": {},
   "outputs": [
    {
     "name": "stderr",
     "output_type": "stream",
     "text": [
      "[nltk_data] Downloading package stopwords to\n",
      "[nltk_data]     C:\\Users\\Om\\AppData\\Roaming\\nltk_data...\n",
      "[nltk_data]   Package stopwords is already up-to-date!\n"
     ]
    }
   ],
   "source": [
    "nltk.download('stopwords')\n",
    "filtered_tokens = remove_stop_words(tokens)"
   ]
  },
  {
   "cell_type": "code",
   "execution_count": 93,
   "id": "f73314bf-545a-4b50-8afe-cad3a9453636",
   "metadata": {},
   "outputs": [
    {
     "data": {
      "text/plain": [
       "['student', 'hello', 'session', 'going', 'onn']"
      ]
     },
     "execution_count": 93,
     "metadata": {},
     "output_type": "execute_result"
    }
   ],
   "source": [
    "filtered_tokens"
   ]
  },
  {
   "cell_type": "code",
   "execution_count": 94,
   "id": "35433454-98bc-4dea-91e6-8b1168d522c2",
   "metadata": {},
   "outputs": [],
   "source": [
    "def stem_tokens(tokens):\n",
    "    stemmer = PorterStemmer()\n",
    "    stemmed_tokens = [stemmer.stem(word) for word in tokens]\n",
    "    return stemmed_tokens"
   ]
  },
  {
   "cell_type": "code",
   "execution_count": 95,
   "id": "407e4d0d-b993-44f4-b6dd-0150f5e0835d",
   "metadata": {},
   "outputs": [],
   "source": [
    "stemmed_tokens = stem_tokens(filtered_tokens)"
   ]
  },
  {
   "cell_type": "code",
   "execution_count": 96,
   "id": "de3b9ce0-a94d-4a20-b2f1-23569589c47d",
   "metadata": {},
   "outputs": [
    {
     "data": {
      "text/plain": [
       "['student', 'hello', 'session', 'go', 'onn']"
      ]
     },
     "execution_count": 96,
     "metadata": {},
     "output_type": "execute_result"
    }
   ],
   "source": [
    "stemmed_tokens"
   ]
  },
  {
   "cell_type": "code",
   "execution_count": 97,
   "id": "a388a079-5736-4ade-ae5f-568769621a4f",
   "metadata": {},
   "outputs": [
    {
     "name": "stderr",
     "output_type": "stream",
     "text": [
      "[nltk_data] Downloading package wordnet to\n",
      "[nltk_data]     C:\\Users\\Om\\AppData\\Roaming\\nltk_data...\n",
      "[nltk_data]   Package wordnet is already up-to-date!\n"
     ]
    },
    {
     "data": {
      "text/plain": [
       "True"
      ]
     },
     "execution_count": 97,
     "metadata": {},
     "output_type": "execute_result"
    }
   ],
   "source": [
    "nltk.download('wordnet')"
   ]
  },
  {
   "cell_type": "code",
   "execution_count": 98,
   "id": "717a3dce-6d43-46c0-883e-b24c2222a95f",
   "metadata": {},
   "outputs": [],
   "source": [
    "def lemmatize_tokens(tokens):\n",
    "    lemmatizer = WordNetLemmatizer()\n",
    "    def get_wordnet_pos(treebank_tag):\n",
    "        if treebank_tag.startswith('J'):\n",
    "            return wn.ADJ\n",
    "        elif treebank_tag.startswith('V'):\n",
    "            return wn.VERB\n",
    "        elif treebank_tag.startswith('N'):\n",
    "            return wn.NOUN\n",
    "        elif treebank_tag.startswith('R'):\n",
    "            return wn.ADV\n",
    "        else:\n",
    "            return None\n",
    "    pos_tags = pos_tag(tokens)\n",
    "    \n",
    "    # Lemmatize each token based on its POS tag\n",
    "    lemmatized_tokens = []\n",
    "    for word, pos in pos_tags:\n",
    "        wordnet_pos = get_wordnet_pos(pos) or wn.NOUN\n",
    "        lemmatized_tokens.append(lemmatizer.lemmatize(word, pos=wordnet_pos))\n",
    "    \n",
    "    return lemmatized_tokens"
   ]
  },
  {
   "cell_type": "code",
   "execution_count": 99,
   "id": "d824d7e9-7e7e-4db2-9b19-4b1c5c098cd2",
   "metadata": {},
   "outputs": [],
   "source": [
    "lemmatized_tokens = lemmatize_tokens(tokens)"
   ]
  },
  {
   "cell_type": "code",
   "execution_count": 100,
   "id": "92a1f393-8282-4332-a668-4d45000ca4dd",
   "metadata": {},
   "outputs": [
    {
     "data": {
      "text/plain": [
       "['i',\n",
       " 'be',\n",
       " 'a',\n",
       " 'student',\n",
       " 'hello',\n",
       " 'there',\n",
       " 'be',\n",
       " 'a',\n",
       " 'session',\n",
       " 'go',\n",
       " 'onn']"
      ]
     },
     "execution_count": 100,
     "metadata": {},
     "output_type": "execute_result"
    }
   ],
   "source": [
    "lemmatized_tokens"
   ]
  },
  {
   "cell_type": "code",
   "execution_count": 101,
   "id": "dc72dd62-77b9-4853-ab4a-6fc7a33ce95e",
   "metadata": {},
   "outputs": [],
   "source": [
    "def get_tfidf_representation(documents):\n",
    "    tfidf_vectorizer = TfidfVectorizer()\n",
    "    tfidf_matrix = tfidf_vectorizer.fit_transform(documents)\n",
    "    return tfidf_matrix"
   ]
  },
  {
   "cell_type": "code",
   "execution_count": 102,
   "id": "2b43d2f3-cc7d-43cd-ac13-3adc9a34d669",
   "metadata": {},
   "outputs": [],
   "source": [
    "tfidf_matrix = get_tfidf_representation([text])"
   ]
  },
  {
   "cell_type": "code",
   "execution_count": 103,
   "id": "8151565f-8bd9-437f-8f64-81c3f22ca2ec",
   "metadata": {},
   "outputs": [
    {
     "data": {
      "text/plain": [
       "<1x8 sparse matrix of type '<class 'numpy.float64'>'\n",
       "\twith 8 stored elements in Compressed Sparse Row format>"
      ]
     },
     "execution_count": 103,
     "metadata": {},
     "output_type": "execute_result"
    }
   ],
   "source": [
    "tfidf_matrix"
   ]
  },
  {
   "cell_type": "code",
   "execution_count": 104,
   "id": "8dec0f73-d2e5-4c3e-8ac7-15f5b19710f1",
   "metadata": {},
   "outputs": [
    {
     "name": "stdout",
     "output_type": "stream",
     "text": [
      "Original Tokens:\n",
      "['i', 'am', 'a', 'student', 'hello', 'there', 'is', 'a', 'session', 'going', 'onn']\n",
      "\n",
      "POS Tagging:\n",
      "[('i', 'NN'), ('am', 'VBP'), ('a', 'DT'), ('student', 'NN'), ('hello', 'NN'), ('there', 'EX'), ('is', 'VBZ'), ('a', 'DT'), ('session', 'NN'), ('going', 'VBG'), ('onn', 'NN')]\n",
      "\n",
      "Filtered Tokens after Stop Words Removal:\n",
      "['student', 'hello', 'session', 'going', 'onn']\n",
      "\n",
      "Stemmed Tokens:\n",
      "['student', 'hello', 'session', 'go', 'onn']\n",
      "\n",
      "Lemmatized Tokens:\n",
      "['i', 'be', 'a', 'student', 'hello', 'there', 'be', 'a', 'session', 'go', 'onn']\n",
      "\n",
      "TF-IDF Representation:\n",
      "  (0, 4)\t0.35355339059327373\n",
      "  (0, 1)\t0.35355339059327373\n",
      "  (0, 5)\t0.35355339059327373\n",
      "  (0, 3)\t0.35355339059327373\n",
      "  (0, 7)\t0.35355339059327373\n",
      "  (0, 2)\t0.35355339059327373\n",
      "  (0, 6)\t0.35355339059327373\n",
      "  (0, 0)\t0.35355339059327373\n"
     ]
    }
   ],
   "source": [
    "print(\"Original Tokens:\")\n",
    "print(tokens)\n",
    "print(\"\\nPOS Tagging:\")\n",
    "print(pos_tags)\n",
    "print(\"\\nFiltered Tokens after Stop Words Removal:\")\n",
    "print(filtered_tokens)\n",
    "print(\"\\nStemmed Tokens:\")\n",
    "print(stemmed_tokens)\n",
    "print(\"\\nLemmatized Tokens:\")\n",
    "print(lemmatized_tokens)\n",
    "print(\"\\nTF-IDF Representation:\")\n",
    "print(tfidf_matrix)"
   ]
  },
  {
   "cell_type": "code",
   "execution_count": null,
   "id": "f96dfe93-cb8b-4c56-b75f-4bf7d87cb942",
   "metadata": {},
   "outputs": [],
   "source": []
  }
 ],
 "metadata": {
  "kernelspec": {
   "display_name": "Python 3 (ipykernel)",
   "language": "python",
   "name": "python3"
  },
  "language_info": {
   "codemirror_mode": {
    "name": "ipython",
    "version": 3
   },
   "file_extension": ".py",
   "mimetype": "text/x-python",
   "name": "python",
   "nbconvert_exporter": "python",
   "pygments_lexer": "ipython3",
   "version": "3.11.7"
  }
 },
 "nbformat": 4,
 "nbformat_minor": 5
}
